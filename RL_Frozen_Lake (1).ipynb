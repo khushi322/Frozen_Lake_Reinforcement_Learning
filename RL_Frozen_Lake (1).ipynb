{
 "cells": [
  {
   "cell_type": "markdown",
   "id": "b3309a03-278e-4736-b9b9-950cdfe1a095",
   "metadata": {},
   "source": [
    "# ❄️ Frozen Lake Q-Learning Agent\n",
    "This notebook demonstrates how a Q-Learning agent is trained to master the Frozen Lake environment from OpenAI Gym.\n"
   ]
  },
  {
   "cell_type": "code",
   "execution_count": null,
   "id": "6fa86eaf-4b69-4e5e-8c77-916d019f1571",
   "metadata": {},
   "outputs": [],
   "source": [
    "!pip install gymnasium"
   ]
  },
  {
   "cell_type": "code",
   "execution_count": null,
   "id": "0992bb2e-a5c7-45c2-acb7-7c9396b113e2",
   "metadata": {},
   "outputs": [],
   "source": [
    "import numpy as np\n",
    "import gymnasium as gym\n",
    "import random\n",
    "import time\n",
    "from IPython.display import clear_output"
   ]
  },
  {
   "cell_type": "code",
   "execution_count": null,
   "id": "10d89ad0-3730-4591-8b5d-5844610ff678",
   "metadata": {},
   "outputs": [],
   "source": [
    "env = gym.make(\"FrozenLake-v1\")\n",
    "action_space_size = env.action_space.n\n",
    "state_space_size = env.observation_space.n\n",
    "\n",
    "q_table = np.zeros((state_space_size, action_space_size))\n",
    "\n",
    "num_episodes = 10000\n",
    "max_steps_per_episode = 100\n",
    "\n",
    "learning_rate = 0.1\n",
    "discount_rate = 0.99\n",
    "\n",
    "exploration_rate = 1\n",
    "max_exploration_rate = 1\n",
    "min_exploration_rate = 0.01\n",
    "exploration_decay_rate = 0.001\n"
   ]
  },
  {
   "cell_type": "code",
   "execution_count": null,
   "id": "93bf8595-7f2a-4d14-907d-50eda9bc81b6",
   "metadata": {},
   "outputs": [],
   "source": [
    "rewards = [] "
   ]
  },
  {
   "cell_type": "code",
   "execution_count": null,
   "id": "fcf52b8b-88d5-4528-9809-c83b36b2e916",
   "metadata": {},
   "outputs": [],
   "source": [
    "rewards_all_episodes = []\n",
    "for episode in range(num_episodes):\n",
    "    state,_ = env.reset()\n",
    "    done = False\n",
    "    rewards_current_episode = 0\n",
    "\n",
    "    for step in range(max_steps_per_episode): \n",
    "      exploration_rate_threshold = random.uniform(0, 1)\n",
    "      if exploration_rate_threshold > exploration_rate:\n",
    "        action = np.argmax(q_table[state,:]) \n",
    "      else:\n",
    "        action = env.action_space.sample()\n",
    "      new_state, reward, terminated ,truncated, info = env.step(action) \n",
    "      done =terminated  or truncated\n",
    "      q_table[state, action] = q_table[state, action] * (1 - learning_rate) + learning_rate * (reward + discount_rate * np.max(q_table[new_state, :]))\n",
    "      state = new_state \n",
    "      rewards_current_episode += reward \n",
    "      if done == True: \n",
    "        break\n",
    "      exploration_rate = min_exploration_rate + (max_exploration_rate - min_exploration_rate) * np.exp(-exploration_decay_rate*episode)\n",
    "    rewards_all_episodes.append(rewards_current_episode)"
   ]
  },
  {
   "cell_type": "code",
   "execution_count": null,
   "id": "a07f35d3-effe-4d90-b083-d02d2283848c",
   "metadata": {},
   "outputs": [],
   "source": [
    "# Calculate and print the average reward per thousand episodes\n",
    "rewards_per_thousand_episodes = np.split(np.array(rewards_all_episodes),num_episodes/1000)\n",
    "count = 1000\n",
    "\n",
    "print(\"********Average reward per thousand episodes********\\n\")\n",
    "for r in rewards_per_thousand_episodes:\n",
    "    print(count, \": \", str(sum(r/1000)))\n",
    "    count += 1000"
   ]
  },
  {
   "cell_type": "code",
   "execution_count": null,
   "id": "a872be91-72a0-4492-b079-83a14f65fa60",
   "metadata": {},
   "outputs": [],
   "source": [
    "#play the game!\n",
    "for episode in range(3):\n",
    "    state = env.reset()\n",
    "    state= int(state[0])\n",
    "    done = False\n",
    "    print(\"*****EPISODE \", episode+1, \"*****\\n\\n\\n\\n\")\n",
    "    time.sleep(1)\n",
    "    for step in range(max_steps_per_episode):        \n",
    "      clear_output(wait=True)\n",
    "      env.render()\n",
    "      time.sleep(0.3)\n",
    "      action = np.argmax(q_table[state,:])        \n",
    "      state, reward, done,truncated, info = env.step(action)\n",
    "      if done:\n",
    "        clear_output(wait=True)\n",
    "        env.render()\n",
    "        if reward == 1:\n",
    "            print(\"****You reached the goal!****\")\n",
    "            time.sleep(3)\n",
    "        else:\n",
    "            print(\"****You fell through a hole!****\")\n",
    "            time.sleep(3)\n",
    "            clear_output(wait=True)\n",
    "        break\n",
    "      state = int(state)\n",
    "env.close()"
   ]
  },
  {
   "cell_type": "markdown",
   "id": "1abcd808-a347-4150-827b-a1b8e0032939",
   "metadata": {},
   "source": [
    "## ✅ Conclusion\n",
    "The agent successfully learns to navigate Frozen Lake after X episodes. It avoids holes and reaches the goal reliably.\n"
   ]
  },
  {
   "cell_type": "code",
   "execution_count": null,
   "id": "749e2716-40a6-4974-8085-3f4707990279",
   "metadata": {},
   "outputs": [],
   "source": [
    "np.save(\"q_table.npy\", q_table)\n",
    "print(\"✅ Q-table saved as q_table.npy\")\n"
   ]
  },
  {
   "cell_type": "code",
   "execution_count": null,
   "id": "0a111f7c-b185-4a0d-9ffd-2cc90a08790f",
   "metadata": {},
   "outputs": [],
   "source": []
  }
 ],
 "metadata": {
  "kernelspec": {
   "display_name": "Python 3 (ipykernel)",
   "language": "python",
   "name": "python3"
  },
  "language_info": {
   "codemirror_mode": {
    "name": "ipython",
    "version": 3
   },
   "file_extension": ".py",
   "mimetype": "text/x-python",
   "name": "python",
   "nbconvert_exporter": "python",
   "pygments_lexer": "ipython3",
   "version": "3.13.5"
  }
 },
 "nbformat": 4,
 "nbformat_minor": 5
}
